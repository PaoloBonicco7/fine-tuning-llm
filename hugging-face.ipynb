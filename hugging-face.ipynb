{
 "cells": [
  {
   "cell_type": "markdown",
   "metadata": {},
   "source": [
    "# Setup Hugging Face"
   ]
  },
  {
   "cell_type": "markdown",
   "metadata": {},
   "source": [
    "List of task:\n",
    "\n",
    "- Sentiment Analysis\n",
    "\n",
    "- Zero-shot classification\n",
    "- Text Generation\n",
    "- Text Completion (Fill Mask)\n",
    "- NER Tagging / Token classification\n",
    "- Question Answering\n",
    "- Summarization\n",
    "- Translation"
   ]
  },
  {
   "cell_type": "markdown",
   "metadata": {},
   "source": [
    "## Pipeline"
   ]
  },
  {
   "cell_type": "markdown",
   "metadata": {},
   "source": [
    "### Example 1 - Sentiment Analysis"
   ]
  },
  {
   "cell_type": "markdown",
   "metadata": {},
   "source": [
    "Il modello nella cella sopra effettua in automatico le operazioni di pre e post processing del testo.\n",
    "\n",
    "- *pre-processing* - Tokenizza il test\n",
    "\n",
    "- *post-processing* - sulla base del nostro task (sentiment-analysis) ritorna cosa ci serve, in questo caso una `label` associata al testo con uno `score`"
   ]
  },
  {
   "cell_type": "code",
   "execution_count": 30,
   "metadata": {},
   "outputs": [
    {
     "name": "stderr",
     "output_type": "stream",
     "text": [
      "No model was supplied, defaulted to distilbert-base-uncased-finetuned-sst-2-english and revision af0f99b (https://huggingface.co/distilbert-base-uncased-finetuned-sst-2-english).\n",
      "Using a pipeline without specifying a model name and revision in production is not recommended.\n"
     ]
    },
    {
     "data": {
      "application/vnd.jupyter.widget-view+json": {
       "model_id": "a65f319f36764daaba9ea8a9e9247d6d",
       "version_major": 2,
       "version_minor": 0
      },
      "text/plain": [
       "config.json:   0%|          | 0.00/629 [00:00<?, ?B/s]"
      ]
     },
     "metadata": {},
     "output_type": "display_data"
    },
    {
     "data": {
      "application/vnd.jupyter.widget-view+json": {
       "model_id": "d1c68732b981445d8256f4ee1c7aa05d",
       "version_major": 2,
       "version_minor": 0
      },
      "text/plain": [
       "model.safetensors:   0%|          | 0.00/268M [00:00<?, ?B/s]"
      ]
     },
     "metadata": {},
     "output_type": "display_data"
    },
    {
     "data": {
      "application/vnd.jupyter.widget-view+json": {
       "model_id": "c5678a12e01e4ff4a1fc5904e9094e86",
       "version_major": 2,
       "version_minor": 0
      },
      "text/plain": [
       "tokenizer_config.json:   0%|          | 0.00/48.0 [00:00<?, ?B/s]"
      ]
     },
     "metadata": {},
     "output_type": "display_data"
    },
    {
     "data": {
      "application/vnd.jupyter.widget-view+json": {
       "model_id": "c0e121902bbd48d593d9132314052aeb",
       "version_major": 2,
       "version_minor": 0
      },
      "text/plain": [
       "vocab.txt:   0%|          | 0.00/232k [00:00<?, ?B/s]"
      ]
     },
     "metadata": {},
     "output_type": "display_data"
    },
    {
     "name": "stdout",
     "output_type": "stream",
     "text": [
      "[{'label': 'POSITIVE', 'score': 0.9997795224189758}, {'label': 'NEGATIVE', 'score': 0.9994558691978455}]\n"
     ]
    }
   ],
   "source": [
    "from transformers import pipeline\n",
    "classifier = pipeline('sentiment-analysis')\n",
    "\n",
    "res = classifier([\n",
    "  'We are very happy to show you the 🤗 Transformers library.',\n",
    "  'I hate this so much!'\n",
    "  ])\n",
    "\n",
    "print(res)"
   ]
  },
  {
   "cell_type": "markdown",
   "metadata": {},
   "source": [
    "### Example 2 - Zero-shot classification"
   ]
  },
  {
   "cell_type": "markdown",
   "metadata": {},
   "source": [
    "Vogliamo classificare il testo in input assegnando un valore di appartenenza alle classi in input"
   ]
  },
  {
   "cell_type": "code",
   "execution_count": 31,
   "metadata": {},
   "outputs": [
    {
     "name": "stderr",
     "output_type": "stream",
     "text": [
      "No model was supplied, defaulted to facebook/bart-large-mnli and revision c626438 (https://huggingface.co/facebook/bart-large-mnli).\n",
      "Using a pipeline without specifying a model name and revision in production is not recommended.\n"
     ]
    },
    {
     "data": {
      "application/vnd.jupyter.widget-view+json": {
       "model_id": "1b54dc2ae86246629d8acfa3b4d51615",
       "version_major": 2,
       "version_minor": 0
      },
      "text/plain": [
       "config.json:   0%|          | 0.00/1.15k [00:00<?, ?B/s]"
      ]
     },
     "metadata": {},
     "output_type": "display_data"
    },
    {
     "data": {
      "application/vnd.jupyter.widget-view+json": {
       "model_id": "42f0c30aaaa74943b6def256ac263e0f",
       "version_major": 2,
       "version_minor": 0
      },
      "text/plain": [
       "model.safetensors:   0%|          | 0.00/1.63G [00:00<?, ?B/s]"
      ]
     },
     "metadata": {},
     "output_type": "display_data"
    },
    {
     "data": {
      "application/vnd.jupyter.widget-view+json": {
       "model_id": "afdf3e547c8344058fae0b59431a3a26",
       "version_major": 2,
       "version_minor": 0
      },
      "text/plain": [
       "tokenizer_config.json:   0%|          | 0.00/26.0 [00:00<?, ?B/s]"
      ]
     },
     "metadata": {},
     "output_type": "display_data"
    },
    {
     "data": {
      "application/vnd.jupyter.widget-view+json": {
       "model_id": "1f4a250cac8543f3b3b911d3b49a6b14",
       "version_major": 2,
       "version_minor": 0
      },
      "text/plain": [
       "vocab.json:   0%|          | 0.00/899k [00:00<?, ?B/s]"
      ]
     },
     "metadata": {},
     "output_type": "display_data"
    },
    {
     "data": {
      "application/vnd.jupyter.widget-view+json": {
       "model_id": "da04d41c63024fc29de6d51b1fde4528",
       "version_major": 2,
       "version_minor": 0
      },
      "text/plain": [
       "merges.txt:   0%|          | 0.00/456k [00:00<?, ?B/s]"
      ]
     },
     "metadata": {},
     "output_type": "display_data"
    },
    {
     "data": {
      "application/vnd.jupyter.widget-view+json": {
       "model_id": "e98d951937434eb28e46615b7876e6cb",
       "version_major": 2,
       "version_minor": 0
      },
      "text/plain": [
       "tokenizer.json:   0%|          | 0.00/1.36M [00:00<?, ?B/s]"
      ]
     },
     "metadata": {},
     "output_type": "display_data"
    },
    {
     "data": {
      "text/plain": [
       "{'sequence': 'This is course about the Transofrmers library',\n",
       " 'labels': ['education', 'business', 'politics'],\n",
       " 'scores': [0.927046537399292, 0.051024530082941055, 0.02192891761660576]}"
      ]
     },
     "execution_count": 31,
     "metadata": {},
     "output_type": "execute_result"
    }
   ],
   "source": [
    "from transformers import pipeline\n",
    "\n",
    "classifier = pipeline(\"zero-shot-classification\")\n",
    "classifier(\n",
    "  \"This is course about the Transofrmers library\",\n",
    "  candidate_labels=[\"education\", \"politics\", \"business\"],\n",
    ")"
   ]
  },
  {
   "cell_type": "markdown",
   "metadata": {},
   "source": [
    "### Example 3 - Text Generation"
   ]
  },
  {
   "cell_type": "code",
   "execution_count": 32,
   "metadata": {},
   "outputs": [
    {
     "name": "stderr",
     "output_type": "stream",
     "text": [
      "No model was supplied, defaulted to gpt2 and revision 6c0e608 (https://huggingface.co/gpt2).\n",
      "Using a pipeline without specifying a model name and revision in production is not recommended.\n"
     ]
    },
    {
     "data": {
      "application/vnd.jupyter.widget-view+json": {
       "model_id": "843e85546c1d45bba5c88152e6b1797a",
       "version_major": 2,
       "version_minor": 0
      },
      "text/plain": [
       "config.json:   0%|          | 0.00/665 [00:00<?, ?B/s]"
      ]
     },
     "metadata": {},
     "output_type": "display_data"
    },
    {
     "data": {
      "application/vnd.jupyter.widget-view+json": {
       "model_id": "97585da73f9142c591eef97bd59c3dc2",
       "version_major": 2,
       "version_minor": 0
      },
      "text/plain": [
       "model.safetensors:   0%|          | 0.00/548M [00:00<?, ?B/s]"
      ]
     },
     "metadata": {},
     "output_type": "display_data"
    },
    {
     "data": {
      "application/vnd.jupyter.widget-view+json": {
       "model_id": "08c20b2640a8475b9a96c05933e1a045",
       "version_major": 2,
       "version_minor": 0
      },
      "text/plain": [
       "generation_config.json:   0%|          | 0.00/124 [00:00<?, ?B/s]"
      ]
     },
     "metadata": {},
     "output_type": "display_data"
    },
    {
     "data": {
      "application/vnd.jupyter.widget-view+json": {
       "model_id": "e4e9eae7e5e647e4999098dbba0296d5",
       "version_major": 2,
       "version_minor": 0
      },
      "text/plain": [
       "vocab.json:   0%|          | 0.00/1.04M [00:00<?, ?B/s]"
      ]
     },
     "metadata": {},
     "output_type": "display_data"
    },
    {
     "data": {
      "application/vnd.jupyter.widget-view+json": {
       "model_id": "462b1144fd4a4703b710773ab8d1ee38",
       "version_major": 2,
       "version_minor": 0
      },
      "text/plain": [
       "merges.txt:   0%|          | 0.00/456k [00:00<?, ?B/s]"
      ]
     },
     "metadata": {},
     "output_type": "display_data"
    },
    {
     "data": {
      "application/vnd.jupyter.widget-view+json": {
       "model_id": "36a9823917df49a6861e395ed1e48069",
       "version_major": 2,
       "version_minor": 0
      },
      "text/plain": [
       "tokenizer.json:   0%|          | 0.00/1.36M [00:00<?, ?B/s]"
      ]
     },
     "metadata": {},
     "output_type": "display_data"
    },
    {
     "name": "stderr",
     "output_type": "stream",
     "text": [
      "Setting `pad_token_id` to `eos_token_id`:50256 for open-end generation.\n"
     ]
    },
    {
     "data": {
      "text/plain": [
       "[{'generated_text': 'In this course, we will teach you how to build tools to collect data, convert, and store data, so you can better understand and predict the results generated from the event. Learn more About Data Collection Software, How to Create a Simple Data Collection'}]"
      ]
     },
     "execution_count": 32,
     "metadata": {},
     "output_type": "execute_result"
    }
   ],
   "source": [
    "from transformers import pipeline\n",
    "\n",
    "generator = pipeline(\"text-generation\")\n",
    "generator(\n",
    "  \"In this course, we will teach you how to\"\n",
    ")"
   ]
  },
  {
   "cell_type": "code",
   "execution_count": 33,
   "metadata": {},
   "outputs": [
    {
     "data": {
      "application/vnd.jupyter.widget-view+json": {
       "model_id": "bb217cf4b741447db34744a7f9b0d6a3",
       "version_major": 2,
       "version_minor": 0
      },
      "text/plain": [
       "config.json:   0%|          | 0.00/762 [00:00<?, ?B/s]"
      ]
     },
     "metadata": {},
     "output_type": "display_data"
    },
    {
     "data": {
      "application/vnd.jupyter.widget-view+json": {
       "model_id": "b6a4876833ce450aad5be6fb3b07cba8",
       "version_major": 2,
       "version_minor": 0
      },
      "text/plain": [
       "model.safetensors:   0%|          | 0.00/353M [00:00<?, ?B/s]"
      ]
     },
     "metadata": {},
     "output_type": "display_data"
    },
    {
     "data": {
      "application/vnd.jupyter.widget-view+json": {
       "model_id": "572f85b63c6f41638f381cff965e5524",
       "version_major": 2,
       "version_minor": 0
      },
      "text/plain": [
       "generation_config.json:   0%|          | 0.00/124 [00:00<?, ?B/s]"
      ]
     },
     "metadata": {},
     "output_type": "display_data"
    },
    {
     "data": {
      "application/vnd.jupyter.widget-view+json": {
       "model_id": "5c2b362e58ad48c5bef3b73c63e0332e",
       "version_major": 2,
       "version_minor": 0
      },
      "text/plain": [
       "vocab.json:   0%|          | 0.00/1.04M [00:00<?, ?B/s]"
      ]
     },
     "metadata": {},
     "output_type": "display_data"
    },
    {
     "data": {
      "application/vnd.jupyter.widget-view+json": {
       "model_id": "5f2859ad78314fe9af7883e753dca029",
       "version_major": 2,
       "version_minor": 0
      },
      "text/plain": [
       "merges.txt:   0%|          | 0.00/456k [00:00<?, ?B/s]"
      ]
     },
     "metadata": {},
     "output_type": "display_data"
    },
    {
     "data": {
      "application/vnd.jupyter.widget-view+json": {
       "model_id": "93ada18f4cfb47828d37e8ac4c3bdac5",
       "version_major": 2,
       "version_minor": 0
      },
      "text/plain": [
       "tokenizer.json:   0%|          | 0.00/1.36M [00:00<?, ?B/s]"
      ]
     },
     "metadata": {},
     "output_type": "display_data"
    },
    {
     "name": "stderr",
     "output_type": "stream",
     "text": [
      "Truncation was not explicitly activated but `max_length` is provided a specific value, please use `truncation=True` to explicitly truncate examples to max length. Defaulting to 'longest_first' truncation strategy. If you encode pairs of sequences (GLUE-style) with the tokenizer you can select this strategy more precisely by providing a specific strategy to `truncation`.\n",
      "Setting `pad_token_id` to `eos_token_id`:50256 for open-end generation.\n"
     ]
    },
    {
     "data": {
      "text/plain": [
       "[{'generated_text': 'In this course, we will teach you how to use a camera lens for your own needs.\\n\\n\\n\\nI hope you enjoyed this one,'},\n",
       " {'generated_text': 'In this course, we will teach you how to change our systems to be better at learning this and learn how to be better at the tools to work'}]"
      ]
     },
     "execution_count": 33,
     "metadata": {},
     "output_type": "execute_result"
    }
   ],
   "source": [
    "from transformers import pipeline\n",
    "\n",
    "generator = pipeline(\"text-generation\", model=\"distilgpt2\")\n",
    "generator(\n",
    "  \"In this course, we will teach you how to\",\n",
    "  max_length=30,\n",
    "  num_return_sequences=2,\n",
    ")"
   ]
  },
  {
   "cell_type": "markdown",
   "metadata": {},
   "source": [
    "### Example 4 - Run Mistral Model\n",
    "**NOTES**: Do Not Run Unless you want to spend ALOT of storage on your disk"
   ]
  },
  {
   "cell_type": "code",
   "execution_count": null,
   "metadata": {},
   "outputs": [],
   "source": [
    "model_id = \"mistralai/Mixtral-8x7B-Instruct-v0.1\"\n",
    "\n",
    "from transformers import pipeline\n",
    "\n",
    "generator = pipeline(\"text-generation\", model=model_id)\n",
    "generator(\n",
    "  \"In this course, we will teach you how to\"\n",
    ")"
   ]
  },
  {
   "cell_type": "markdown",
   "metadata": {},
   "source": [
    "### Example 5 - Fill Mask"
   ]
  },
  {
   "cell_type": "code",
   "execution_count": 34,
   "metadata": {},
   "outputs": [
    {
     "name": "stderr",
     "output_type": "stream",
     "text": [
      "No model was supplied, defaulted to distilroberta-base and revision ec58a5b (https://huggingface.co/distilroberta-base).\n",
      "Using a pipeline without specifying a model name and revision in production is not recommended.\n"
     ]
    },
    {
     "data": {
      "application/vnd.jupyter.widget-view+json": {
       "model_id": "91cb143347c54a8b8aa8918ef1d7af46",
       "version_major": 2,
       "version_minor": 0
      },
      "text/plain": [
       "config.json:   0%|          | 0.00/480 [00:00<?, ?B/s]"
      ]
     },
     "metadata": {},
     "output_type": "display_data"
    },
    {
     "data": {
      "application/vnd.jupyter.widget-view+json": {
       "model_id": "fb3c5753f110487a9a3afbc849384bb2",
       "version_major": 2,
       "version_minor": 0
      },
      "text/plain": [
       "model.safetensors:   0%|          | 0.00/331M [00:00<?, ?B/s]"
      ]
     },
     "metadata": {},
     "output_type": "display_data"
    },
    {
     "name": "stderr",
     "output_type": "stream",
     "text": [
      "Some weights of the model checkpoint at distilroberta-base were not used when initializing RobertaForMaskedLM: ['roberta.pooler.dense.bias', 'roberta.pooler.dense.weight']\n",
      "- This IS expected if you are initializing RobertaForMaskedLM from the checkpoint of a model trained on another task or with another architecture (e.g. initializing a BertForSequenceClassification model from a BertForPreTraining model).\n",
      "- This IS NOT expected if you are initializing RobertaForMaskedLM from the checkpoint of a model that you expect to be exactly identical (initializing a BertForSequenceClassification model from a BertForSequenceClassification model).\n"
     ]
    },
    {
     "data": {
      "application/vnd.jupyter.widget-view+json": {
       "model_id": "3b1ccb2b7a434f2ebfa0de3e79f9206d",
       "version_major": 2,
       "version_minor": 0
      },
      "text/plain": [
       "vocab.json:   0%|          | 0.00/899k [00:00<?, ?B/s]"
      ]
     },
     "metadata": {},
     "output_type": "display_data"
    },
    {
     "data": {
      "application/vnd.jupyter.widget-view+json": {
       "model_id": "ad7b22cfb31a4dc8807f3e04ea83e8e0",
       "version_major": 2,
       "version_minor": 0
      },
      "text/plain": [
       "merges.txt:   0%|          | 0.00/456k [00:00<?, ?B/s]"
      ]
     },
     "metadata": {},
     "output_type": "display_data"
    },
    {
     "data": {
      "application/vnd.jupyter.widget-view+json": {
       "model_id": "b820beb03595425f923ca7d05f28a32c",
       "version_major": 2,
       "version_minor": 0
      },
      "text/plain": [
       "tokenizer.json:   0%|          | 0.00/1.36M [00:00<?, ?B/s]"
      ]
     },
     "metadata": {},
     "output_type": "display_data"
    },
    {
     "data": {
      "text/plain": [
       "[{'score': 0.19619722664356232,\n",
       "  'token': 30412,\n",
       "  'token_str': ' mathematical',\n",
       "  'sequence': 'This course will teach you all about mathematical models.'},\n",
       " {'score': 0.0405273400247097,\n",
       "  'token': 38163,\n",
       "  'token_str': ' computational',\n",
       "  'sequence': 'This course will teach you all about computational models.'}]"
      ]
     },
     "execution_count": 34,
     "metadata": {},
     "output_type": "execute_result"
    }
   ],
   "source": [
    "from transformers import pipeline\n",
    "\n",
    "unmasker = pipeline(\"fill-mask\")  \n",
    "unmasker(\"This course will teach you all about <mask> models.\", top_k=2)"
   ]
  },
  {
   "cell_type": "markdown",
   "metadata": {},
   "source": [
    "### BLA"
   ]
  },
  {
   "cell_type": "markdown",
   "metadata": {},
   "source": [
    "## Managing Cache"
   ]
  },
  {
   "cell_type": "markdown",
   "metadata": {},
   "source": [
    "#### Login (?)"
   ]
  },
  {
   "cell_type": "code",
   "execution_count": 4,
   "metadata": {},
   "outputs": [
    {
     "data": {
      "application/vnd.jupyter.widget-view+json": {
       "model_id": "08a40eb2c4c14c6ba7cbcfd73a8a0f19",
       "version_major": 2,
       "version_minor": 0
      },
      "text/plain": [
       "VBox(children=(HTML(value='<center> <img\\nsrc=https://huggingface.co/front/assets/huggingface_logo-noborder.sv…"
      ]
     },
     "metadata": {},
     "output_type": "display_data"
    }
   ],
   "source": [
    "from huggingface_hub import notebook_login\n",
    "notebook_login()"
   ]
  },
  {
   "cell_type": "markdown",
   "metadata": {},
   "source": [
    "#### Delete specific id"
   ]
  },
  {
   "cell_type": "code",
   "execution_count": 5,
   "metadata": {},
   "outputs": [
    {
     "name": "stderr",
     "output_type": "stream",
     "text": [
      "Revision(s) not found - cannot delete them: e7da7f221d5bf496a48136c0cd264e630fe9fcc8\n"
     ]
    }
   ],
   "source": [
    "from huggingface_hub import scan_cache_dir\n",
    "\n",
    "scan_cache_dir().delete_revisions(\n",
    "    \"e7da7f221d5bf496a48136c0cd264e630fe9fcc8\"\n",
    ").execute()"
   ]
  },
  {
   "cell_type": "markdown",
   "metadata": {},
   "source": [
    "Scan cache directory"
   ]
  },
  {
   "cell_type": "code",
   "execution_count": 25,
   "metadata": {},
   "outputs": [
    {
     "data": {
      "text/plain": [
       "frozenset({CachedRepoInfo(repo_id='distilbert-base-uncased-finetuned-sst-2-english', repo_type='model', repo_path=PosixPath('/Users/paolobonicco/.cache/huggingface/hub/models--distilbert-base-uncased-finetuned-sst-2-english'), size_on_disk=268064743, nb_files=4, revisions=frozenset({CachedRevisionInfo(commit_hash='714eb0fa89d2f80546fda750413ed43d93601a13', snapshot_path=PosixPath('/Users/paolobonicco/.cache/huggingface/hub/models--distilbert-base-uncased-finetuned-sst-2-english/snapshots/714eb0fa89d2f80546fda750413ed43d93601a13'), size_on_disk=268064743, files=frozenset({CachedFileInfo(file_name='vocab.txt', file_path=PosixPath('/Users/paolobonicco/.cache/huggingface/hub/models--distilbert-base-uncased-finetuned-sst-2-english/snapshots/714eb0fa89d2f80546fda750413ed43d93601a13/vocab.txt'), blob_path=PosixPath('/Users/paolobonicco/.cache/huggingface/hub/models--distilbert-base-uncased-finetuned-sst-2-english/blobs/fb140275c155a9c7c5a3b3e0e77a9e839594a938'), size_on_disk=231508, blob_last_accessed=1707494870.2879746, blob_last_modified=1707494869.4921012), CachedFileInfo(file_name='config.json', file_path=PosixPath('/Users/paolobonicco/.cache/huggingface/hub/models--distilbert-base-uncased-finetuned-sst-2-english/snapshots/714eb0fa89d2f80546fda750413ed43d93601a13/config.json'), blob_path=PosixPath('/Users/paolobonicco/.cache/huggingface/hub/models--distilbert-base-uncased-finetuned-sst-2-english/blobs/b57fe5dfcb8ec3f9bab35ed427c3434e3c7dd1ba'), size_on_disk=629, blob_last_accessed=1707494863.6178188, blob_last_modified=1707494863.6080465), CachedFileInfo(file_name='tokenizer_config.json', file_path=PosixPath('/Users/paolobonicco/.cache/huggingface/hub/models--distilbert-base-uncased-finetuned-sst-2-english/snapshots/714eb0fa89d2f80546fda750413ed43d93601a13/tokenizer_config.json'), blob_path=PosixPath('/Users/paolobonicco/.cache/huggingface/hub/models--distilbert-base-uncased-finetuned-sst-2-english/blobs/3ed34255a7cb8e6706a8bb21993836e99e7b959f'), size_on_disk=48, blob_last_accessed=1707494868.9232821, blob_last_modified=1707494868.89375), CachedFileInfo(file_name='model.safetensors', file_path=PosixPath('/Users/paolobonicco/.cache/huggingface/hub/models--distilbert-base-uncased-finetuned-sst-2-english/snapshots/714eb0fa89d2f80546fda750413ed43d93601a13/model.safetensors'), blob_path=PosixPath('/Users/paolobonicco/.cache/huggingface/hub/models--distilbert-base-uncased-finetuned-sst-2-english/blobs/7c3919835e442510166d267fe7cbe847e0c51cd26d9ba07b89a57b952b49b8aa'), size_on_disk=267832558, blob_last_accessed=1707498450.5975716, blob_last_modified=1707494868.160216)}), refs=frozenset({'main'}), last_modified=1707494869.4921012)}), last_accessed=1707498450.5975716, last_modified=1707494869.4921012),\n",
       "           CachedRepoInfo(repo_id='facebook/bart-large-mnli', repo_type='model', repo_path=PosixPath('/Users/paolobonicco/.cache/huggingface/hub/models--facebook--bart-large-mnli'), size_on_disk=1632149330, nb_files=6, revisions=frozenset({CachedRevisionInfo(commit_hash='d7645e127eaf1aefc7862fd59a17a5aa8558b8ce', snapshot_path=PosixPath('/Users/paolobonicco/.cache/huggingface/hub/models--facebook--bart-large-mnli/snapshots/d7645e127eaf1aefc7862fd59a17a5aa8558b8ce'), size_on_disk=1632149330, files=frozenset({CachedFileInfo(file_name='config.json', file_path=PosixPath('/Users/paolobonicco/.cache/huggingface/hub/models--facebook--bart-large-mnli/snapshots/d7645e127eaf1aefc7862fd59a17a5aa8558b8ce/config.json'), blob_path=PosixPath('/Users/paolobonicco/.cache/huggingface/hub/models--facebook--bart-large-mnli/blobs/dfc96c728b40cc131e46b1c424c8e072d52b6d74'), size_on_disk=1154, blob_last_accessed=1707498330.4770424, blob_last_modified=1707498330.4615736), CachedFileInfo(file_name='model.safetensors', file_path=PosixPath('/Users/paolobonicco/.cache/huggingface/hub/models--facebook--bart-large-mnli/snapshots/d7645e127eaf1aefc7862fd59a17a5aa8558b8ce/model.safetensors'), blob_path=PosixPath('/Users/paolobonicco/.cache/huggingface/hub/models--facebook--bart-large-mnli/blobs/cfbb687dbbd9df99fe865e1860350a22aebac4d26ee4bcb50217f1df606a018e'), size_on_disk=1629437147, blob_last_accessed=1707499462.1267693, blob_last_modified=1707498362.3848777), CachedFileInfo(file_name='vocab.json', file_path=PosixPath('/Users/paolobonicco/.cache/huggingface/hub/models--facebook--bart-large-mnli/snapshots/d7645e127eaf1aefc7862fd59a17a5aa8558b8ce/vocab.json'), blob_path=PosixPath('/Users/paolobonicco/.cache/huggingface/hub/models--facebook--bart-large-mnli/blobs/0a39732b2d8be8e493cab3da68b68cc3e28221de'), size_on_disk=898822, blob_last_accessed=1707498372.697923, blob_last_modified=1707498373.2373097), CachedFileInfo(file_name='merges.txt', file_path=PosixPath('/Users/paolobonicco/.cache/huggingface/hub/models--facebook--bart-large-mnli/snapshots/d7645e127eaf1aefc7862fd59a17a5aa8558b8ce/merges.txt'), blob_path=PosixPath('/Users/paolobonicco/.cache/huggingface/hub/models--facebook--bart-large-mnli/blobs/226b0752cac7789c48f0cb3ec53eda48b7be36cc'), size_on_disk=456318, blob_last_accessed=1707498373.3699489, blob_last_modified=1707498373.8118455), CachedFileInfo(file_name='tokenizer.json', file_path=PosixPath('/Users/paolobonicco/.cache/huggingface/hub/models--facebook--bart-large-mnli/snapshots/d7645e127eaf1aefc7862fd59a17a5aa8558b8ce/tokenizer.json'), blob_path=PosixPath('/Users/paolobonicco/.cache/huggingface/hub/models--facebook--bart-large-mnli/blobs/ad0bcbeb288f0d1373d88e0762e66357f55b8311'), size_on_disk=1355863, blob_last_accessed=1707498374.548842, blob_last_modified=1707498374.2107477), CachedFileInfo(file_name='tokenizer_config.json', file_path=PosixPath('/Users/paolobonicco/.cache/huggingface/hub/models--facebook--bart-large-mnli/snapshots/d7645e127eaf1aefc7862fd59a17a5aa8558b8ce/tokenizer_config.json'), blob_path=PosixPath('/Users/paolobonicco/.cache/huggingface/hub/models--facebook--bart-large-mnli/blobs/be4d21d94f3b4687e5a54d84bf6ab46ed0f8defd'), size_on_disk=26, blob_last_accessed=1707498369.009973, blob_last_modified=1707498368.6169014)}), refs=frozenset({'main'}), last_modified=1707498374.2107477)}), last_accessed=1707499462.1267693, last_modified=1707498374.2107477),\n",
       "           CachedRepoInfo(repo_id='gpt2', repo_type='model', repo_path=PosixPath('/Users/paolobonicco/.cache/huggingface/hub/models--gpt2'), size_on_disk=550959835, nb_files=6, revisions=frozenset({CachedRevisionInfo(commit_hash='11c5a3d5811f50298f278a704980280950aedb10', snapshot_path=PosixPath('/Users/paolobonicco/.cache/huggingface/hub/models--gpt2/snapshots/11c5a3d5811f50298f278a704980280950aedb10'), size_on_disk=550959835, files=frozenset({CachedFileInfo(file_name='tokenizer.json', file_path=PosixPath('/Users/paolobonicco/.cache/huggingface/hub/models--gpt2/snapshots/11c5a3d5811f50298f278a704980280950aedb10/tokenizer.json'), blob_path=PosixPath('/Users/paolobonicco/.cache/huggingface/hub/models--gpt2/blobs/4b988bccc9dc5adacd403c00b4704976196548f8'), size_on_disk=1355256, blob_last_accessed=1687709704.199827, blob_last_modified=1687709703.7942889), CachedFileInfo(file_name='vocab.json', file_path=PosixPath('/Users/paolobonicco/.cache/huggingface/hub/models--gpt2/snapshots/11c5a3d5811f50298f278a704980280950aedb10/vocab.json'), blob_path=PosixPath('/Users/paolobonicco/.cache/huggingface/hub/models--gpt2/blobs/1f1d9aaca301414e7f6c9396df506798ff4eb9a6'), size_on_disk=1042301, blob_last_accessed=1687856821.9129915, blob_last_modified=1687709702.804328), CachedFileInfo(file_name='generation_config.json', file_path=PosixPath('/Users/paolobonicco/.cache/huggingface/hub/models--gpt2/snapshots/11c5a3d5811f50298f278a704980280950aedb10/generation_config.json'), blob_path=PosixPath('/Users/paolobonicco/.cache/huggingface/hub/models--gpt2/blobs/3dc481ecc3b2c47a06ab4e20dba9d7f4b447bdf3'), size_on_disk=124, blob_last_accessed=1687793965.3332136, blob_last_modified=1687793964.4386742), CachedFileInfo(file_name='config.json', file_path=PosixPath('/Users/paolobonicco/.cache/huggingface/hub/models--gpt2/snapshots/11c5a3d5811f50298f278a704980280950aedb10/config.json'), blob_path=PosixPath('/Users/paolobonicco/.cache/huggingface/hub/models--gpt2/blobs/10c66461e4c109db5a2196bff4bb59be30396ed8'), size_on_disk=665, blob_last_accessed=1687709702.1837475, blob_last_modified=1687709702.1073246), CachedFileInfo(file_name='model.safetensors', file_path=PosixPath('/Users/paolobonicco/.cache/huggingface/hub/models--gpt2/snapshots/11c5a3d5811f50298f278a704980280950aedb10/model.safetensors'), blob_path=PosixPath('/Users/paolobonicco/.cache/huggingface/hub/models--gpt2/blobs/248dfc3911869ec493c76e65bf2fcf7f615828b0254c12b473182f0f81d3a707'), size_on_disk=548105171, blob_last_accessed=1707499533.320022, blob_last_modified=1687793961.2354412), CachedFileInfo(file_name='merges.txt', file_path=PosixPath('/Users/paolobonicco/.cache/huggingface/hub/models--gpt2/snapshots/11c5a3d5811f50298f278a704980280950aedb10/merges.txt'), blob_path=PosixPath('/Users/paolobonicco/.cache/huggingface/hub/models--gpt2/blobs/226b0752cac7789c48f0cb3ec53eda48b7be36cc'), size_on_disk=456318, blob_last_accessed=1687856821.9132187, blob_last_modified=1687709703.1729462)}), refs=frozenset({'main'}), last_modified=1687793964.4386742)}), last_accessed=1707499533.320022, last_modified=1687793964.4386742)})"
      ]
     },
     "execution_count": 25,
     "metadata": {},
     "output_type": "execute_result"
    }
   ],
   "source": [
    "from pprint import pprint\n",
    "hf_cache_info = scan_cache_dir()\n",
    "\n",
    "hf_cache_info.repos"
   ]
  },
  {
   "cell_type": "markdown",
   "metadata": {},
   "source": [
    "Delete by model_id"
   ]
  },
  {
   "cell_type": "code",
   "execution_count": 29,
   "metadata": {},
   "outputs": [
    {
     "name": "stdout",
     "output_type": "stream",
     "text": [
      "REPO ID REPO TYPE REVISION SIZE ON DISK NB FILES LAST_MODIFIED REFS LOCAL PATH \n",
      "------- --------- -------- ------------ -------- ------------- ---- ---------- \n",
      "\n",
      "Done in 0.0s. Scanned 0 repo(s) for a total of \u001b[1m\u001b[31m0.0\u001b[0m.\n",
      "\u001b[90mGot 3 warning(s) while scanning. Use -vvv to print details.\u001b[0m\n"
     ]
    }
   ],
   "source": [
    "!huggingface-cli scan-cache -v"
   ]
  },
  {
   "cell_type": "code",
   "execution_count": 27,
   "metadata": {},
   "outputs": [
    {
     "name": "stdout",
     "output_type": "stream",
     "text": [
      "Will free 2.5G.\n"
     ]
    }
   ],
   "source": [
    "cache_info = scan_cache_dir()\n",
    "delete_strategy = cache_info.delete_revisions(\n",
    "    \"714eb0fa89d2f80546fda750413ed43d93601a13\",\n",
    "    \"d7645e127eaf1aefc7862fd59a17a5aa8558b8ce\",\n",
    "    \"11c5a3d5811f50298f278a704980280950aedb10\"\n",
    ")\n",
    "print(f\"Will free {delete_strategy.expected_freed_size_str}.\")"
   ]
  },
  {
   "cell_type": "code",
   "execution_count": 28,
   "metadata": {},
   "outputs": [],
   "source": [
    "delete_strategy.execute()"
   ]
  },
  {
   "cell_type": "code",
   "execution_count": 21,
   "metadata": {},
   "outputs": [
    {
     "name": "stderr",
     "output_type": "stream",
     "text": [
      "Revision(s) not found - cannot delete them: facebook/bart-large-mnli\n"
     ]
    }
   ],
   "source": [
    "scan_cache_dir().delete_revisions(\n",
    "    \"11c5a3d5811f50298f278a704980280950aedb10\"\n",
    ").execute()"
   ]
  },
  {
   "cell_type": "markdown",
   "metadata": {},
   "source": [
    "## ITALIAN-LAW-BERT"
   ]
  },
  {
   "cell_type": "code",
   "execution_count": 1,
   "metadata": {},
   "outputs": [
    {
     "name": "stderr",
     "output_type": "stream",
     "text": [
      "Some weights of BertModel were not initialized from the model checkpoint at dlicari/Italian-Legal-BERT and are newly initialized: ['bert.pooler.dense.bias', 'bert.pooler.dense.weight']\n",
      "You should probably TRAIN this model on a down-stream task to be able to use it for predictions and inference.\n"
     ]
    }
   ],
   "source": [
    "from transformers import AutoModel, AutoTokenizer\n",
    "model_name = \"dlicari/Italian-Legal-BERT\"\n",
    "tokenizer = AutoTokenizer.from_pretrained(model_name)\n",
    "model = AutoModel.from_pretrained(model_name)"
   ]
  },
  {
   "cell_type": "code",
   "execution_count": null,
   "metadata": {},
   "outputs": [],
   "source": [
    "from transformers import pipeline\n",
    "model_name = \"dlicari/Italian-Legal-BERT\"\n",
    "fill_mask = pipeline(\"fill-mask\", model_name)\n",
    "fill_mask(\"Il [MASK] ha chiesto revocarsi l'obbligo di pagamento\")"
   ]
  },
  {
   "cell_type": "markdown",
   "metadata": {},
   "source": [
    "#### Da provare con Dati documento"
   ]
  },
  {
   "cell_type": "code",
   "execution_count": 2,
   "metadata": {},
   "outputs": [],
   "source": [
    "text1 =  \"L'utente è totalmente ed esclusivamente responsabile dell'uso del Servizio (da intendersi espressamente con riguardo alle funzioni di pubblicazione, di consultazione, di gestione delle inserzioni e di contatto tra utenti) ed è pertanto l'unico garante e responsabile dei beni e dei servizi offerti per il tramite del Servizio nonchè della correttezza, completezza e liceità delle inserzioni e del proprio comportamento nell'ambito del contatto tra utenti.\""
   ]
  },
  {
   "cell_type": "code",
   "execution_count": 5,
   "metadata": {},
   "outputs": [],
   "source": [
    "text1 = \"Subito.it S.r.l. non presta alcuna garanzia circa il contenuto, la completezza e la correttezza delle inserzioni pubblicate nè con riguardo ai dati pubblicati, né relativamente alle informazioni successivamente fornite dall’utente, nè con riferimento al numero o alla qualità dei risultati ottenuti tramite il Servizio. In ogni caso Subito.it S.r.l. si riserva, in qualsiasi momento, il diritto di valutare, approvare, eliminare o impedire l'inserzione ovvero il diritto di inibire la consultazione o il contatto per il tramite del form di risposta all’annuncio nel caso in cui, a proprio insindacabile giudizio, l'uso del Servizio da parte dell'utente si riferisca a particolari sezioni merceologiche o possa considerarsi lesivo di diritti o delle prerogative di Subito.it S.r.l. o di terzi. Resta inteso che anche in caso di valutazione ed approvazione delle inserzioni (siano esse automatiche o manuali) Subito.it S.r.l. non presta alcuna garanzia circa il contenuto, la completezza e la correttezza delle stesse. Subito.it S.r.l. è altresì estranea alle trattative eventualmente nascenti dall'uso del Servizio e pertanto non garantisce nè la bontà nè l'esito delle stesse, di conseguenza nessuna richiesta di restituzione, compensazione, riparazione e/o risarcimento a qualunque titolo potrà essere indirizzata nei confronti di Subito.it S.r.l. Il Servizio è offerto per il tramite del sito www.subito.it, del m-site m.subito.it e delle applicazioni mobile che possono contenere banner/link ad altri siti Internet o applicazioni che non sono sotto il controllo di Subito.it S.r.l.; la pubblicazione dei predetti banner/link non comporta l’approvazione o l’avallo da parte di Subito.it S.r.l. dei relativi siti e dei loro contenuti, né implica alcuna forma di garanzia da parte di quest’ultima che pertanto non si assume alcuna responsabilità. L'utente riconosce, quindi, che Subito.it S.r.l. non è responsabile, a titolo meramente esemplificativo, della veridicità, correttezza, completezza, del rispetto dei diritti di proprietà intellettuale e/o industriale, né risponde della loro eventuale contrarietà all’ordine pubblico, al buon costume e/o alla morale.\""
   ]
  },
  {
   "cell_type": "code",
   "execution_count": 3,
   "metadata": {},
   "outputs": [],
   "source": [
    "categories1 = [\"Responsabilità dell'utente\", \"Limitazione di responsabilità\", \"Diritti di proprietà intellettuale\", \"Privacy\", \"Disposizioni finali\"]"
   ]
  },
  {
   "cell_type": "code",
   "execution_count": 9,
   "metadata": {},
   "outputs": [],
   "source": [
    "cat1 = [\"Termini e Condizioni\", \"Università\", \"Porno\"]"
   ]
  },
  {
   "cell_type": "code",
   "execution_count": 10,
   "metadata": {},
   "outputs": [
    {
     "name": "stderr",
     "output_type": "stream",
     "text": [
      "Some weights of BertForSequenceClassification were not initialized from the model checkpoint at dlicari/Italian-Legal-BERT and are newly initialized: ['bert.pooler.dense.bias', 'bert.pooler.dense.weight', 'classifier.bias', 'classifier.weight']\n",
      "You should probably TRAIN this model on a down-stream task to be able to use it for predictions and inference.\n",
      "Failed to determine 'entailment' label id from the label2id mapping in the model config. Setting to -1. Define a descriptive label2id mapping in the model config to ensure correct outputs.\n"
     ]
    },
    {
     "data": {
      "text/plain": [
       "{'sequence': \"Subito.it S.r.l. non presta alcuna garanzia circa il contenuto, la completezza e la correttezza delle inserzioni pubblicate nè con riguardo ai dati pubblicati, né relativamente alle informazioni successivamente fornite dall’utente, nè con riferimento al numero o alla qualità dei risultati ottenuti tramite il Servizio. In ogni caso Subito.it S.r.l. si riserva, in qualsiasi momento, il diritto di valutare, approvare, eliminare o impedire l'inserzione ovvero il diritto di inibire la consultazione o il contatto per il tramite del form di risposta all’annuncio nel caso in cui, a proprio insindacabile giudizio, l'uso del Servizio da parte dell'utente si riferisca a particolari sezioni merceologiche o possa considerarsi lesivo di diritti o delle prerogative di Subito.it S.r.l. o di terzi. Resta inteso che anche in caso di valutazione ed approvazione delle inserzioni (siano esse automatiche o manuali) Subito.it S.r.l. non presta alcuna garanzia circa il contenuto, la completezza e la correttezza delle stesse. Subito.it S.r.l. è altresì estranea alle trattative eventualmente nascenti dall'uso del Servizio e pertanto non garantisce nè la bontà nè l'esito delle stesse, di conseguenza nessuna richiesta di restituzione, compensazione, riparazione e/o risarcimento a qualunque titolo potrà essere indirizzata nei confronti di Subito.it S.r.l. Il Servizio è offerto per il tramite del sito www.subito.it, del m-site m.subito.it e delle applicazioni mobile che possono contenere banner/link ad altri siti Internet o applicazioni che non sono sotto il controllo di Subito.it S.r.l.; la pubblicazione dei predetti banner/link non comporta l’approvazione o l’avallo da parte di Subito.it S.r.l. dei relativi siti e dei loro contenuti, né implica alcuna forma di garanzia da parte di quest’ultima che pertanto non si assume alcuna responsabilità. L'utente riconosce, quindi, che Subito.it S.r.l. non è responsabile, a titolo meramente esemplificativo, della veridicità, correttezza, completezza, del rispetto dei diritti di proprietà intellettuale e/o industriale, né risponde della loro eventuale contrarietà all’ordine pubblico, al buon costume e/o alla morale.\",\n",
       " 'labels': ['Porno', 'Termini e Condizioni', 'Università'],\n",
       " 'scores': [0.3346896767616272, 0.33300599455833435, 0.33230429887771606]}"
      ]
     },
     "execution_count": 10,
     "metadata": {},
     "output_type": "execute_result"
    }
   ],
   "source": [
    "from transformers import pipeline\n",
    "model_name = \"dlicari/Italian-Legal-BERT\"\n",
    "classifier = pipeline(\"zero-shot-classification\", model=model_name)\n",
    "classifier(\n",
    "  text1,\n",
    "  candidate_labels=cat1,\n",
    ")"
   ]
  },
  {
   "cell_type": "code",
   "execution_count": null,
   "metadata": {},
   "outputs": [],
   "source": [
    "from transformers import pipeline\n",
    "\n",
    "classifier = pipeline(\"zero-shot-classification\")\n",
    "classifier(\n",
    "  \"This is course about the Transofrmers library\",\n",
    "  candidate_labels=[\"education\", \"politics\", \"business\"],\n",
    ")"
   ]
  }
 ],
 "metadata": {
  "kernelspec": {
   "display_name": "dl4nlp-venv",
   "language": "python",
   "name": "python3"
  },
  "language_info": {
   "codemirror_mode": {
    "name": "ipython",
    "version": 3
   },
   "file_extension": ".py",
   "mimetype": "text/x-python",
   "name": "python",
   "nbconvert_exporter": "python",
   "pygments_lexer": "ipython3",
   "version": "3.11.3"
  }
 },
 "nbformat": 4,
 "nbformat_minor": 2
}
